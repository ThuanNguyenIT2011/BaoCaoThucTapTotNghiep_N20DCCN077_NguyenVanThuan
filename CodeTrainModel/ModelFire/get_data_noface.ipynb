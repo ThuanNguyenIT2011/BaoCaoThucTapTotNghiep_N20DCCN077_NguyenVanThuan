{
 "cells": [
  {
   "cell_type": "code",
   "execution_count": 5,
   "id": "0e85455b-fd40-4bd3-bcdc-70b489297f62",
   "metadata": {},
   "outputs": [],
   "source": [
    "import cv2\n",
    "import os"
   ]
  },
  {
   "cell_type": "code",
   "execution_count": 10,
   "id": "a515418c-a3c8-4e10-a76b-b8006c8d2197",
   "metadata": {},
   "outputs": [],
   "source": [
    "def video_to_images(input_path, output_dir, size=(224, 224)):\n",
    "    if not os.path.exists(output_dir):\n",
    "        os.makedirs(output_dir)\n",
    "    \n",
    "    cap = cv2.VideoCapture(input_path)\n",
    "    frame_count = 0\n",
    "\n",
    "    while cap.isOpened():\n",
    "        ret, frame = cap.read()\n",
    "        if not ret:\n",
    "            break\n",
    "        \n",
    "        # Lấy kích thước của khung hình\n",
    "        h, w, _ = frame.shape\n",
    "        \n",
    "        # Xác định tỷ lệ cắt\n",
    "        min_dim = min(h, w)\n",
    "        crop_w = crop_h = min_dim\n",
    "        \n",
    "        # Tính toán toạ độ để cắt khung hình trung tâm\n",
    "        x1 = (w - crop_w) // 2\n",
    "        y1 = (h - crop_h) // 2\n",
    "        x2 = x1 + crop_w\n",
    "        y2 = y1 + crop_h\n",
    "        \n",
    "        # Cắt khung hình\n",
    "        crop_frame = frame[y1:y2, x1:x2]\n",
    "        \n",
    "        # Thay đổi kích thước khung hình\n",
    "        resized_frame = cv2.resize(crop_frame, size)\n",
    "        \n",
    "        # Lưu khung hình đã thay đổi kích thước\n",
    "        output_path = os.path.join(output_dir, f\"frame1_{frame_count:04d}.png\")\n",
    "        cv2.imwrite(output_path, resized_frame)\n",
    "        \n",
    "        frame_count += 1\n",
    "\n",
    "    cap.release()"
   ]
  },
  {
   "cell_type": "code",
   "execution_count": 12,
   "id": "625c3782-407c-439f-ac7c-1cf352023718",
   "metadata": {},
   "outputs": [],
   "source": [
    "input_video_path = 'noface1.mp4'\n",
    "output_images_dir = 'output_faces/noface'\n",
    "video_to_images(input_video_path, output_images_dir)"
   ]
  },
  {
   "cell_type": "code",
   "execution_count": 13,
   "id": "66d6e607-60f9-48cd-b748-a0e7ad8d8994",
   "metadata": {},
   "outputs": [],
   "source": [
    "import random\n",
    "import shutil"
   ]
  },
  {
   "cell_type": "code",
   "execution_count": 14,
   "id": "77aff7b0-ff8b-42b0-8c9e-84e3e48efea1",
   "metadata": {},
   "outputs": [],
   "source": [
    "def move_random_images(src_dir, dest_dir, percentage=20):\n",
    "    # Tạo thư mục đích nếu chưa tồn tại\n",
    "    if not os.path.exists(dest_dir):\n",
    "        os.makedirs(dest_dir)\n",
    "    \n",
    "    # Lấy danh sách tất cả các tệp trong thư mục nguồn\n",
    "    all_files = [f for f in os.listdir(src_dir) if os.path.isfile(os.path.join(src_dir, f))]\n",
    "    \n",
    "    # Tính số lượng tệp cần di chuyển\n",
    "    num_files_to_move = int(len(all_files) * (percentage / 100))\n",
    "    \n",
    "    # Chọn ngẫu nhiên các tệp để di chuyển\n",
    "    files_to_move = random.sample(all_files, num_files_to_move)\n",
    "    \n",
    "    # Di chuyển các tệp đã chọn đến thư mục đích\n",
    "    for file in files_to_move:\n",
    "        shutil.move(os.path.join(src_dir, file), os.path.join(dest_dir, file))\n",
    "    \n",
    "    print(f\"Đã di chuyển {num_files_to_move} tệp từ {src_dir} đến {dest_dir}\")"
   ]
  },
  {
   "cell_type": "code",
   "execution_count": 15,
   "id": "13117b8d-92bf-41be-8af3-638bdcd671c5",
   "metadata": {},
   "outputs": [
    {
     "name": "stdout",
     "output_type": "stream",
     "text": [
      "Đã di chuyển 665 tệp từ output_faces/noface2 đến output_faces/4_noface\n"
     ]
    }
   ],
   "source": [
    "src_directory = 'output_faces/noface2'\n",
    "dest_directory = 'output_faces/4_noface'\n",
    "move_random_images(src_directory, dest_directory, percentage=20)"
   ]
  },
  {
   "cell_type": "code",
   "execution_count": null,
   "id": "12a1741e-caa3-4752-bce8-b831f22a702e",
   "metadata": {},
   "outputs": [],
   "source": []
  }
 ],
 "metadata": {
  "kernelspec": {
   "display_name": "Python 3 (ipykernel)",
   "language": "python",
   "name": "python3"
  },
  "language_info": {
   "codemirror_mode": {
    "name": "ipython",
    "version": 3
   },
   "file_extension": ".py",
   "mimetype": "text/x-python",
   "name": "python",
   "nbconvert_exporter": "python",
   "pygments_lexer": "ipython3",
   "version": "3.10.11"
  }
 },
 "nbformat": 4,
 "nbformat_minor": 5
}
